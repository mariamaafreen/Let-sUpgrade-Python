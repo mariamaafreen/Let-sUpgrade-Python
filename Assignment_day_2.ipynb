{
  "nbformat": 4,
  "nbformat_minor": 0,
  "metadata": {
    "colab": {
      "name": "Assignment day 2.ipynb",
      "provenance": [],
      "collapsed_sections": []
    },
    "kernelspec": {
      "name": "python3",
      "display_name": "Python 3"
    }
  },
  "cells": [
    {
      "cell_type": "markdown",
      "metadata": {
        "id": "s9UeHSaVdFc0",
        "colab_type": "text"
      },
      "source": [
        "List "
      ]
    },
    {
      "cell_type": "markdown",
      "metadata": {
        "id": "6lnmqTSkdImM",
        "colab_type": "text"
      },
      "source": [
        "1.Access Items\n"
      ]
    },
    {
      "cell_type": "code",
      "metadata": {
        "id": "pfNq3s52dUMS",
        "colab_type": "code",
        "colab": {
          "base_uri": "https://localhost:8080/",
          "height": 34
        },
        "outputId": "ece13cb2-d968-4357-a753-d6c491e06d40"
      },
      "source": [
        "list1 = [\"Ant\", \"Cat\", \"Dog\",\"Horse\"]\n",
        "print(list1[1])"
      ],
      "execution_count": 1,
      "outputs": [
        {
          "output_type": "stream",
          "text": [
            "Cat\n"
          ],
          "name": "stdout"
        }
      ]
    },
    {
      "cell_type": "markdown",
      "metadata": {
        "id": "5Vr3ZHzedAgL",
        "colab_type": "text"
      },
      "source": [
        "2.Negative Indexing"
      ]
    },
    {
      "cell_type": "code",
      "metadata": {
        "id": "HLnLlTbSdy1P",
        "colab_type": "code",
        "colab": {
          "base_uri": "https://localhost:8080/",
          "height": 34
        },
        "outputId": "8d0ba06c-0dce-47dc-f95b-f8511489de1a"
      },
      "source": [
        "list1 = [\"Ant\", \"Cat\", \"Dog\",\"Horse\"]\n",
        "print(list1[-1])"
      ],
      "execution_count": 2,
      "outputs": [
        {
          "output_type": "stream",
          "text": [
            "Horse\n"
          ],
          "name": "stdout"
        }
      ]
    },
    {
      "cell_type": "markdown",
      "metadata": {
        "id": "8QF8MOlKd_jX",
        "colab_type": "text"
      },
      "source": [
        "3.Range of Indexes"
      ]
    },
    {
      "cell_type": "code",
      "metadata": {
        "id": "8ZVURKnbeMvl",
        "colab_type": "code",
        "colab": {
          "base_uri": "https://localhost:8080/",
          "height": 34
        },
        "outputId": "af5d9a00-2bfd-4ae5-b947-6885241ad3bf"
      },
      "source": [
        "list2 = [\"apple\", \"banana\", \"cherry\", \"orange\", \"kiwi\", \"melon\", \"mango\"]\n",
        "print(list2[:4])"
      ],
      "execution_count": null,
      "outputs": [
        {
          "output_type": "stream",
          "text": [
            "['apple', 'banana', 'cherry', 'orange']\n"
          ],
          "name": "stdout"
        }
      ]
    },
    {
      "cell_type": "markdown",
      "metadata": {
        "id": "r4NlOT_MeZMW",
        "colab_type": "text"
      },
      "source": [
        "4.Change Item Value"
      ]
    },
    {
      "cell_type": "code",
      "metadata": {
        "id": "2qMmQXPieoUa",
        "colab_type": "code",
        "colab": {
          "base_uri": "https://localhost:8080/",
          "height": 34
        },
        "outputId": "1cdce4b3-62f9-413d-b822-6470c65d18fc"
      },
      "source": [
        "list3 = [\"apple\", \"banana\", \"cherry\"]\n",
        "list3[1] = \"blackcurrant\"\n",
        "print(list3)"
      ],
      "execution_count": null,
      "outputs": [
        {
          "output_type": "stream",
          "text": [
            "['apple', 'blackcurrant', 'cherry']\n"
          ],
          "name": "stdout"
        }
      ]
    },
    {
      "cell_type": "markdown",
      "metadata": {
        "id": "7LmtxmEremzu",
        "colab_type": "text"
      },
      "source": [
        "5.Remove Item"
      ]
    },
    {
      "cell_type": "code",
      "metadata": {
        "id": "tsSsuRD2e-3n",
        "colab_type": "code",
        "colab": {
          "base_uri": "https://localhost:8080/",
          "height": 34
        },
        "outputId": "ae11e06c-021f-4434-85d6-d165c5878266"
      },
      "source": [
        "list4 = [\"apple\", \"banana\", \"cherry\"]\n",
        "list4.remove(\"banana\")\n",
        "print(list4)"
      ],
      "execution_count": null,
      "outputs": [
        {
          "output_type": "stream",
          "text": [
            "['apple', 'cherry']\n"
          ],
          "name": "stdout"
        }
      ]
    },
    {
      "cell_type": "markdown",
      "metadata": {
        "id": "1t9e6RXwfuT4",
        "colab_type": "text"
      },
      "source": [
        "Tuples\n"
      ]
    },
    {
      "cell_type": "markdown",
      "metadata": {
        "id": "xMvTtFCTfyae",
        "colab_type": "text"
      },
      "source": [
        "1.Access Items"
      ]
    },
    {
      "cell_type": "code",
      "metadata": {
        "id": "Z7ErU2IRhDRO",
        "colab_type": "code",
        "colab": {
          "base_uri": "https://localhost:8080/",
          "height": 34
        },
        "outputId": "1b961ac4-9123-423b-847b-607a4e59ac33"
      },
      "source": [
        "tuple1 = (\"Ant\", \"Cat\", \"Dog\",\"Horse\")\n",
        "print(tuple1[1])"
      ],
      "execution_count": 4,
      "outputs": [
        {
          "output_type": "stream",
          "text": [
            "Cat\n"
          ],
          "name": "stdout"
        }
      ]
    },
    {
      "cell_type": "markdown",
      "metadata": {
        "id": "AsmEhLafhJtx",
        "colab_type": "text"
      },
      "source": [
        "2.Negative Indexing"
      ]
    },
    {
      "cell_type": "code",
      "metadata": {
        "id": "JVHTLfMKhuJM",
        "colab_type": "code",
        "colab": {
          "base_uri": "https://localhost:8080/",
          "height": 34
        },
        "outputId": "d5fce594-b6f8-4146-a1d7-196070aa605a"
      },
      "source": [
        "tuple1 = (\"Ant\", \"Cat\", \"Dog\",\"Horse\")\n",
        "print(tuple1[-1])"
      ],
      "execution_count": 3,
      "outputs": [
        {
          "output_type": "stream",
          "text": [
            "Horse\n"
          ],
          "name": "stdout"
        }
      ]
    },
    {
      "cell_type": "markdown",
      "metadata": {
        "id": "VCdBRHCchKtG",
        "colab_type": "text"
      },
      "source": [
        "3.Range of Indexes"
      ]
    },
    {
      "cell_type": "code",
      "metadata": {
        "id": "JeUpIniMh4l8",
        "colab_type": "code",
        "colab": {
          "base_uri": "https://localhost:8080/",
          "height": 34
        },
        "outputId": "4d422de3-9e6a-46f9-88dc-461a8c39631b"
      },
      "source": [
        "tuple2 = (\"apple\", \"banana\", \"cherry\", \"orange\", \"kiwi\", \"melon\", \"mango\")\n",
        "print(tuple2[2:5])"
      ],
      "execution_count": null,
      "outputs": [
        {
          "output_type": "stream",
          "text": [
            "('cherry', 'orange', 'kiwi')\n"
          ],
          "name": "stdout"
        }
      ]
    },
    {
      "cell_type": "markdown",
      "metadata": {
        "id": "NcRsaE1hhLEZ",
        "colab_type": "text"
      },
      "source": [
        "4.Change Item Value"
      ]
    },
    {
      "cell_type": "code",
      "metadata": {
        "id": "64rvi3tJh-bX",
        "colab_type": "code",
        "colab": {
          "base_uri": "https://localhost:8080/",
          "height": 34
        },
        "outputId": "4fde0c1c-2b12-4096-a502-7c16441b7a1c"
      },
      "source": [
        "x = (\"apple\", \"banana\", \"cherry\")\n",
        "y = list(x)\n",
        "y[1] = \"kiwi\"\n",
        "x = tuple(y)\n",
        "\n",
        "print(x)"
      ],
      "execution_count": null,
      "outputs": [
        {
          "output_type": "stream",
          "text": [
            "('apple', 'kiwi', 'cherry')\n"
          ],
          "name": "stdout"
        }
      ]
    },
    {
      "cell_type": "markdown",
      "metadata": {
        "id": "zpmjZUyGhMCr",
        "colab_type": "text"
      },
      "source": [
        "5.Tuple Length"
      ]
    },
    {
      "cell_type": "code",
      "metadata": {
        "id": "MnEKN5w-lU-V",
        "colab_type": "code",
        "colab": {
          "base_uri": "https://localhost:8080/",
          "height": 34
        },
        "outputId": "ca93d9d6-1aa8-4a80-9cf1-f691827e9bfa"
      },
      "source": [
        "tuple3 = (\"apple\", \"banana\", \"cherry\")\n",
        "print(len(tuple3))"
      ],
      "execution_count": null,
      "outputs": [
        {
          "output_type": "stream",
          "text": [
            "3\n"
          ],
          "name": "stdout"
        }
      ]
    },
    {
      "cell_type": "markdown",
      "metadata": {
        "id": "u0OEY0LawzVd",
        "colab_type": "text"
      },
      "source": [
        "Dictionaries"
      ]
    },
    {
      "cell_type": "markdown",
      "metadata": {
        "id": "4RSgmgxnwfOg",
        "colab_type": "text"
      },
      "source": [
        "1.Accessing Items"
      ]
    },
    {
      "cell_type": "code",
      "metadata": {
        "id": "PiosBgS9wklb",
        "colab_type": "code",
        "colab": {
          "base_uri": "https://localhost:8080/",
          "height": 34
        },
        "outputId": "d059a25e-f087-473c-edca-d6722fbcbac5"
      },
      "source": [
        "dict1 = {\n",
        "  \"brand\": \"BMW\",\n",
        "  \"model\": \"Q1\",\n",
        "  \"year\": 2005\n",
        "}\n",
        "x = dict1.get(\"model\")\n",
        "print(x)"
      ],
      "execution_count": 6,
      "outputs": [
        {
          "output_type": "stream",
          "text": [
            "Q1\n"
          ],
          "name": "stdout"
        }
      ]
    },
    {
      "cell_type": "markdown",
      "metadata": {
        "id": "zcwRjTfUwfqg",
        "colab_type": "text"
      },
      "source": [
        "2.Change Values"
      ]
    },
    {
      "cell_type": "code",
      "metadata": {
        "id": "6j488vApwlKh",
        "colab_type": "code",
        "colab": {
          "base_uri": "https://localhost:8080/",
          "height": 34
        },
        "outputId": "c2b50a76-3b53-4b80-8b14-1f1e036e5518"
      },
      "source": [
        "dict2 = {\n",
        "  \"brand\": \"BMW\",\n",
        "  \"model\": \"Q1\",\n",
        "  \"year\": 2005\n",
        "}\n",
        "dict2[\"year\"] = 2018\n",
        "print(dict2)"
      ],
      "execution_count": 7,
      "outputs": [
        {
          "output_type": "stream",
          "text": [
            "{'brand': 'BMW', 'model': 'Q1', 'year': 2018}\n"
          ],
          "name": "stdout"
        }
      ]
    },
    {
      "cell_type": "markdown",
      "metadata": {
        "id": "M29fb0ZkwgBx",
        "colab_type": "text"
      },
      "source": [
        "3.Dictionary Length"
      ]
    },
    {
      "cell_type": "code",
      "metadata": {
        "id": "W1blThifwl2F",
        "colab_type": "code",
        "colab": {
          "base_uri": "https://localhost:8080/",
          "height": 34
        },
        "outputId": "988c60f8-f60f-43b2-df93-cc1e96293036"
      },
      "source": [
        "print(len(dict1))"
      ],
      "execution_count": 8,
      "outputs": [
        {
          "output_type": "stream",
          "text": [
            "3\n"
          ],
          "name": "stdout"
        }
      ]
    },
    {
      "cell_type": "markdown",
      "metadata": {
        "id": "SKmZ82kxwgWY",
        "colab_type": "text"
      },
      "source": [
        "4.Adding Items"
      ]
    },
    {
      "cell_type": "code",
      "metadata": {
        "id": "wiC7kYFUwmdN",
        "colab_type": "code",
        "colab": {
          "base_uri": "https://localhost:8080/",
          "height": 34
        },
        "outputId": "df91a247-b969-4536-d166-7eb0496663da"
      },
      "source": [
        "dict3 = {\n",
        "  \"brand\": \"BMW\",\n",
        "  \"model\": \"Q1\",\n",
        "  \"year\": 2005\n",
        "}\n",
        "dict3[\"color\"] = \"red\"\n",
        "print(dict3)"
      ],
      "execution_count": 9,
      "outputs": [
        {
          "output_type": "stream",
          "text": [
            "{'brand': 'BMW', 'model': 'Q1', 'year': 2005, 'color': 'red'}\n"
          ],
          "name": "stdout"
        }
      ]
    },
    {
      "cell_type": "markdown",
      "metadata": {
        "id": "bPnxDU2hwgkA",
        "colab_type": "text"
      },
      "source": [
        "5.Removing Items"
      ]
    },
    {
      "cell_type": "code",
      "metadata": {
        "id": "CeyIQcdPwnDr",
        "colab_type": "code",
        "colab": {
          "base_uri": "https://localhost:8080/",
          "height": 34
        },
        "outputId": "09b46e03-1446-48f1-d83d-b29b7b3ed2ae"
      },
      "source": [
        "dict4 = {\n",
        "  \"brand\": \"BMW\",\n",
        "  \"model\": \"Q1\",\n",
        "  \"year\": 2005\n",
        "}\n",
        "dict4.pop(\"model\")\n",
        "print(dict4)"
      ],
      "execution_count": 10,
      "outputs": [
        {
          "output_type": "stream",
          "text": [
            "{'brand': 'BMW', 'year': 2005}\n"
          ],
          "name": "stdout"
        }
      ]
    },
    {
      "cell_type": "markdown",
      "metadata": {
        "id": "jcVYpVquw6Zx",
        "colab_type": "text"
      },
      "source": [
        "Strings"
      ]
    },
    {
      "cell_type": "markdown",
      "metadata": {
        "id": "Jwm0CALuwg8A",
        "colab_type": "text"
      },
      "source": [
        "1.Slicing"
      ]
    },
    {
      "cell_type": "code",
      "metadata": {
        "id": "r4povhJ9wnq0",
        "colab_type": "code",
        "colab": {
          "base_uri": "https://localhost:8080/",
          "height": 34
        },
        "outputId": "ff113ecf-dc21-4b43-d6f7-e30887142570"
      },
      "source": [
        "a = \"Hello, Mariam!\"\n",
        "print(a[2:5])"
      ],
      "execution_count": 11,
      "outputs": [
        {
          "output_type": "stream",
          "text": [
            "llo\n"
          ],
          "name": "stdout"
        }
      ]
    },
    {
      "cell_type": "markdown",
      "metadata": {
        "id": "fHeEQz1ZwhJt",
        "colab_type": "text"
      },
      "source": [
        "2.Negative Indexing"
      ]
    },
    {
      "cell_type": "code",
      "metadata": {
        "id": "X7tiwqdcwowO",
        "colab_type": "code",
        "colab": {
          "base_uri": "https://localhost:8080/",
          "height": 34
        },
        "outputId": "3cd52eaf-05b1-4cc8-930a-7c3ff4ce9a87"
      },
      "source": [
        "a = \"Hello, Mariam!\"\n",
        "print(a[-5:-2])"
      ],
      "execution_count": 12,
      "outputs": [
        {
          "output_type": "stream",
          "text": [
            "ria\n"
          ],
          "name": "stdout"
        }
      ]
    },
    {
      "cell_type": "markdown",
      "metadata": {
        "id": "VT-pOBtuwhWO",
        "colab_type": "text"
      },
      "source": [
        "3.String Length"
      ]
    },
    {
      "cell_type": "code",
      "metadata": {
        "id": "x0uqJmjPwpdo",
        "colab_type": "code",
        "colab": {
          "base_uri": "https://localhost:8080/",
          "height": 34
        },
        "outputId": "e209b7ff-1802-453c-f5db-1add205c512a"
      },
      "source": [
        "a = \"Hello, Mariam!\"\n",
        "print(len(a))"
      ],
      "execution_count": 13,
      "outputs": [
        {
          "output_type": "stream",
          "text": [
            "14\n"
          ],
          "name": "stdout"
        }
      ]
    },
    {
      "cell_type": "markdown",
      "metadata": {
        "id": "rok-u2SHwhg6",
        "colab_type": "text"
      },
      "source": [
        "4.Check String"
      ]
    },
    {
      "cell_type": "code",
      "metadata": {
        "id": "W-rtE2N9wqFv",
        "colab_type": "code",
        "colab": {
          "base_uri": "https://localhost:8080/",
          "height": 34
        },
        "outputId": "c758aa3b-d81a-41a8-f450-6ea3c89841ed"
      },
      "source": [
        "txt = \"The Sky is blue\"\n",
        "x = \"is\" in txt\n",
        "print(x)"
      ],
      "execution_count": 14,
      "outputs": [
        {
          "output_type": "stream",
          "text": [
            "True\n"
          ],
          "name": "stdout"
        }
      ]
    },
    {
      "cell_type": "markdown",
      "metadata": {
        "id": "1lmykGEVwhsQ",
        "colab_type": "text"
      },
      "source": [
        "5.String Concatenation"
      ]
    },
    {
      "cell_type": "code",
      "metadata": {
        "id": "z_af1CZhwq2W",
        "colab_type": "code",
        "colab": {
          "base_uri": "https://localhost:8080/",
          "height": 34
        },
        "outputId": "a25c4c45-d15e-45d9-b7de-f7b60d798efa"
      },
      "source": [
        "a = \"Hello\"\n",
        "b = \"Mariam\"\n",
        "c = a + \",\" +\" \"+ b\n",
        "print(c)"
      ],
      "execution_count": 17,
      "outputs": [
        {
          "output_type": "stream",
          "text": [
            "Hello, Mariam\n"
          ],
          "name": "stdout"
        }
      ]
    },
    {
      "cell_type": "markdown",
      "metadata": {
        "id": "6ofCAgH2xBXY",
        "colab_type": "text"
      },
      "source": [
        "Sets"
      ]
    },
    {
      "cell_type": "markdown",
      "metadata": {
        "id": "uqrwWEnqwh3O",
        "colab_type": "text"
      },
      "source": [
        "1.Access Items"
      ]
    },
    {
      "cell_type": "code",
      "metadata": {
        "id": "5EY3WWvEwrms",
        "colab_type": "code",
        "colab": {
          "base_uri": "https://localhost:8080/",
          "height": 69
        },
        "outputId": "f9defe26-a719-496d-f4e7-6110d11d760d"
      },
      "source": [
        "set1 = {\"apple\", \"banana\", \"cherry\"}\n",
        "for x in set1:\n",
        "  print(x)"
      ],
      "execution_count": null,
      "outputs": [
        {
          "output_type": "stream",
          "text": [
            "banana\n",
            "cherry\n",
            "apple\n"
          ],
          "name": "stdout"
        }
      ]
    },
    {
      "cell_type": "markdown",
      "metadata": {
        "id": "w6gf2D76wiCX",
        "colab_type": "text"
      },
      "source": [
        "2.Add Items"
      ]
    },
    {
      "cell_type": "code",
      "metadata": {
        "id": "Ofv7Oeu5wsPY",
        "colab_type": "code",
        "colab": {
          "base_uri": "https://localhost:8080/",
          "height": 35
        },
        "outputId": "a35fbcdd-811f-4e12-d323-7ab627734de9"
      },
      "source": [
        "set2 = {\"apple\", \"banana\", \"cherry\"}\n",
        "set2.add(\"orange\")\n",
        "print(set2)"
      ],
      "execution_count": null,
      "outputs": [
        {
          "output_type": "stream",
          "text": [
            "{'banana', 'cherry', 'orange', 'apple'}\n"
          ],
          "name": "stdout"
        }
      ]
    },
    {
      "cell_type": "markdown",
      "metadata": {
        "id": "KSXFuFmQwiM0",
        "colab_type": "text"
      },
      "source": [
        "3.Length of a Set"
      ]
    },
    {
      "cell_type": "code",
      "metadata": {
        "id": "ovFTm5J-ws4u",
        "colab_type": "code",
        "colab": {
          "base_uri": "https://localhost:8080/",
          "height": 35
        },
        "outputId": "9f3eaf2b-8668-46ce-8e42-f04e8de20ab2"
      },
      "source": [
        "print(len(set2))"
      ],
      "execution_count": null,
      "outputs": [
        {
          "output_type": "stream",
          "text": [
            "4\n"
          ],
          "name": "stdout"
        }
      ]
    },
    {
      "cell_type": "markdown",
      "metadata": {
        "id": "WiV5FLYQwiXM",
        "colab_type": "text"
      },
      "source": [
        "4.Remove Item"
      ]
    },
    {
      "cell_type": "code",
      "metadata": {
        "id": "-nrHOA9mwteE",
        "colab_type": "code",
        "colab": {
          "base_uri": "https://localhost:8080/",
          "height": 35
        },
        "outputId": "bbef40a9-5575-42ca-be8c-717a7b5fd528"
      },
      "source": [
        "set3 = {\"apple\", \"banana\", \"cherry\"}\n",
        "set3.remove(\"banana\")\n",
        "print(set3)"
      ],
      "execution_count": null,
      "outputs": [
        {
          "output_type": "stream",
          "text": [
            "{'cherry', 'apple'}\n"
          ],
          "name": "stdout"
        }
      ]
    },
    {
      "cell_type": "markdown",
      "metadata": {
        "id": "bGac_AHPwih2",
        "colab_type": "text"
      },
      "source": [
        "5.Join Two Sets\n"
      ]
    },
    {
      "cell_type": "code",
      "metadata": {
        "id": "6WVcNgCGwuKS",
        "colab_type": "code",
        "colab": {
          "base_uri": "https://localhost:8080/",
          "height": 35
        },
        "outputId": "9399cdc8-ca39-4810-f216-ceeb1123f6fe"
      },
      "source": [
        "set4 = {\"a\", \"b\" , \"c\"}\n",
        "set5 = {1, 2, 3}\n",
        "\n",
        "set6 = set4.union(set5)\n",
        "print(set6)"
      ],
      "execution_count": null,
      "outputs": [
        {
          "output_type": "stream",
          "text": [
            "{1, 2, 3, 'b', 'c', 'a'}\n"
          ],
          "name": "stdout"
        }
      ]
    }
  ]
}
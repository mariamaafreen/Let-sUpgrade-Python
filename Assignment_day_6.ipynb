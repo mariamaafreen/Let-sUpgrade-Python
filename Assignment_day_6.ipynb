{
  "nbformat": 4,
  "nbformat_minor": 0,
  "metadata": {
    "colab": {
      "name": "Assignment day 6.ipynb",
      "provenance": [],
      "collapsed_sections": []
    },
    "kernelspec": {
      "name": "python3",
      "display_name": "Python 3"
    }
  },
  "cells": [
    {
      "cell_type": "markdown",
      "metadata": {
        "id": "64_qPbUtT50i",
        "colab_type": "text"
      },
      "source": [
        "Assignment 1"
      ]
    },
    {
      "cell_type": "code",
      "metadata": {
        "id": "szewPH1fh167",
        "colab_type": "code",
        "colab": {
          "base_uri": "https://localhost:8080/",
          "height": 51
        },
        "outputId": "795e90df-e392-47e4-a958-ccd033d0631f"
      },
      "source": [
        "class BankAccount(): \n",
        "  val=0\n",
        "  def __init__(self, ownername, balance):\n",
        "    self.ownername = ownername\n",
        "    self.balance = balance\n",
        "\n",
        "  def deposit(self,depo): \n",
        "         val = depo + self.balance\n",
        "         self.balance=depo + self.balance\n",
        "         \n",
        "         print('The amount deposited is :', depo,'Your available balance is:',val)\n",
        "         \n",
        "  \n",
        "  def withdraw(self,wd):\n",
        "         if(wd<self.balance):\n",
        "           v=self.balance-wd\n",
        "           print('The amount withdrawen is :', wd,'Your available balance is:',v)\n",
        "         else:\n",
        "           print('Insufficient balance')  \n",
        "\n",
        "ob=BankAccount(\"sanu\",200)\n",
        "ob.deposit(100)\n",
        "ob.withdraw(150)"
      ],
      "execution_count": 2,
      "outputs": [
        {
          "output_type": "stream",
          "text": [
            "The amount deposited is : 100 Your available balance is: 300\n",
            "The amount withdrawen is : 150 Your available balance is: 150\n"
          ],
          "name": "stdout"
        }
      ]
    },
    {
      "cell_type": "markdown",
      "metadata": {
        "id": "1SWXgFRNT6B9",
        "colab_type": "text"
      },
      "source": [
        "Assignment 2"
      ]
    },
    {
      "cell_type": "code",
      "metadata": {
        "id": "SMNPQgTnUDim",
        "colab_type": "code",
        "colab": {
          "base_uri": "https://localhost:8080/",
          "height": 51
        },
        "outputId": "bd544a6a-d306-4d3b-8b33-b93b0c65e331"
      },
      "source": [
        "import math \n",
        "pi = math.pi \n",
        "class Cone(): \n",
        "  def __init__(self, radius, height):\n",
        "    self.radius = radius\n",
        "    self.height = height\n",
        "\n",
        "  def volume(self): \n",
        "         print ((self.height / 3) * pi * self.radius * self.radius  )\n",
        "  \n",
        "  def surfacearea(self): \n",
        "         print(pi * self.radius * self.radius)\n",
        "\n",
        "ob=Cone(2,2)\n",
        "ob.volume()\n",
        "ob.surfacearea()"
      ],
      "execution_count": 1,
      "outputs": [
        {
          "output_type": "stream",
          "text": [
            "8.377580409572781\n",
            "12.566370614359172\n"
          ],
          "name": "stdout"
        }
      ]
    }
  ]
}